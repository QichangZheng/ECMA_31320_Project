{
 "cells": [
  {
   "cell_type": "code",
   "execution_count": 1,
   "metadata": {
    "collapsed": true
   },
   "outputs": [
    {
     "name": "stdout",
     "output_type": "stream",
     "text": [
      "tar: Error opening archive: Failed to open 'v0.1.83.tar.gz'\r\n",
      "zsh:cd:1: no such file or directory: sentencepiece-0.1.83\r\n",
      "mkdir: build: File exists\r\n",
      "zsh:1: command not found: cmake\r\n",
      "make: *** No rule to make target `install'.  Stop.\r\n",
      "zsh:cd:1: no such file or directory: ../python\r\n",
      "python3: can't open file '/Users/qichangzheng/Library/CloudStorage/OneDrive-TheUniversityofChicago/Course/ECMA 31320/Project/setup.py': [Errno 2] No such file or directory\r\n",
      "zsh:1: no matches found: dist/*.whl\r\n"
     ]
    }
   ],
   "source": [
    "! wget https://github.com/google/sentencepiece/archive/refs/tags/v0.1.83.tar.gz\n",
    "! tar zxfv v0.1.83.tar.gz\n",
    "! cd sentencepiece-0.1.83\n",
    "! mkdir build\n",
    "! cd build\n",
    "! cmake .. -DSPM_ENABLE_SHARED=OFF -DCMAKE_INSTALL_PREFIX=./root\n",
    "! make -j20 install\n",
    "! cd ../python\n",
    "! env PKG_CONFIG_PATH=../build/root/lib/pkgconfig python3 setup.py bdist_wheel\n",
    "! pip install dist/*.whl"
   ]
  },
  {
   "cell_type": "code",
   "execution_count": null,
   "outputs": [],
   "source": [],
   "metadata": {
    "collapsed": false
   }
  }
 ],
 "metadata": {
  "kernelspec": {
   "display_name": "Python 3",
   "language": "python",
   "name": "python3"
  },
  "language_info": {
   "codemirror_mode": {
    "name": "ipython",
    "version": 2
   },
   "file_extension": ".py",
   "mimetype": "text/x-python",
   "name": "python",
   "nbconvert_exporter": "python",
   "pygments_lexer": "ipython2",
   "version": "2.7.6"
  }
 },
 "nbformat": 4,
 "nbformat_minor": 0
}
